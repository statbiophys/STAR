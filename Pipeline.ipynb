{
 "cells": [
  {
   "cell_type": "code",
   "execution_count": 1,
   "id": "8830e098",
   "metadata": {},
   "outputs": [],
   "source": [
    "import os\n",
    "import pandas as pd\n",
    "from all_class.get_df import Get_df\n",
    "from all_class.output_HC import Output\n",
    "from all_class.v_nucl import V_nucl\n",
    "from all_class.get_pgen import Get_pgen\n",
    "from all_class.output_MC import Output_MC"
   ]
  },
  {
   "cell_type": "markdown",
   "id": "7aaba1cb",
   "metadata": {},
   "source": [
    " IMPORTING THE DATASET "
   ]
  },
  {
   "cell_type": "code",
   "execution_count": 2,
   "id": "5bfaf74e",
   "metadata": {},
   "outputs": [],
   "source": [
    "data_directory=\"../Data/quake_old/all_days\"\n",
    "relevant_days = [\"D0\",\"D7\"]\n",
    "subject_days = [\"D-5\",\"D-3\",\"D0\",\"D4\",\"D7\",\"D9\",\"D11\"]\n",
    "patients=[\"Patient_1\",\"Patient_2\",\"Patient_3\",\"Patient_4\",\"Patient_5\"]"
   ]
  },
  {
   "cell_type": "code",
   "execution_count": 2,
   "id": "7a962d5e",
   "metadata": {},
   "outputs": [],
   "source": [
    "data_mouse=\"../../GFRAL/topo_1/only_h\"\n",
    "mouse_days=[\"D17\",\"D25\",\"D39\",\"D46\",\"D60\",\"D67\"]"
   ]
  },
  {
   "cell_type": "code",
   "execution_count": 3,
   "id": "de92f568",
   "metadata": {},
   "outputs": [],
   "source": [
    "df_mouse={}\n",
    "for day in mouse_days[:]:\n",
    "    df_mouse[day]=pd.read_table(data_mouse+\"/{}/alignments.tsv\".format(day),sep=\"\\t\")"
   ]
  },
  {
   "cell_type": "code",
   "execution_count": 3,
   "id": "a37870b0",
   "metadata": {},
   "outputs": [],
   "source": [
    "df={}\n",
    "for p in patients:\n",
    "    df[p]={}\n",
    "    for day in subject_days:\n",
    "        df[p][day]=pd.read_table(data_directory+\"/df_{}_{}.tsv\".format(p,day),sep=\"\\t\")\n",
    "        df[p][day].drop(\"family\",axis=1,inplace=True)"
   ]
  },
  {
   "cell_type": "code",
   "execution_count": 5,
   "id": "16847a4c",
   "metadata": {},
   "outputs": [],
   "source": [
    "data=df_mouse[\"D67\"]"
   ]
  },
  {
   "cell_type": "markdown",
   "id": "3e83e7fc",
   "metadata": {},
   "source": [
    "PRODUCE A DATAFRAME WITH ALL THE FEATURES"
   ]
  },
  {
   "cell_type": "code",
   "execution_count": 5,
   "id": "47919965",
   "metadata": {},
   "outputs": [],
   "source": [
    "start = Get_df(data)\n",
    "df_read = start.make()\n",
    "mult_1, uniq_nucl = start.multiplicity()"
   ]
  },
  {
   "cell_type": "markdown",
   "id": "9e18a28d",
   "metadata": {},
   "source": [
    "OUTPUT: LIST OF HIGH CONFIDENCE BINDING SEQUENCES"
   ]
  },
  {
   "cell_type": "code",
   "execution_count": 6,
   "id": "1b2e8b42",
   "metadata": {},
   "outputs": [],
   "source": [
    "threshold=0.000961 #inferred from min fdr of 5%\n",
    "cluster_min=10 #min size to cluster the sequences"
   ]
  },
  {
   "cell_type": "code",
   "execution_count": 7,
   "id": "268a5bda",
   "metadata": {},
   "outputs": [],
   "source": [
    "get_output = Output(df_read)\n",
    "Binders = get_output.cluster(threshold,cluster_min)\n",
    "df_read[\"Hits_HC\"]=df_read.aaSeqCDR3.isin(Binders[\"aaSeqCDR3\"])"
   ]
  },
  {
   "cell_type": "markdown",
   "id": "d57a1e19",
   "metadata": {},
   "source": [
    " FOR V USAGE"
   ]
  },
  {
   "cell_type": "code",
   "execution_count": 8,
   "id": "89771a88",
   "metadata": {},
   "outputs": [],
   "source": [
    "get_vnucl = V_nucl(data)\n",
    "v_nucl = get_vnucl.make_vnucl()"
   ]
  },
  {
   "cell_type": "markdown",
   "id": "2869a13e",
   "metadata": {},
   "source": [
    "TO COMPUTE PGEN (For one sequence or a column of DataFrame of sequences)"
   ]
  },
  {
   "cell_type": "code",
   "execution_count": 9,
   "id": "1ae1e16e",
   "metadata": {},
   "outputs": [],
   "source": [
    "get_pgen = Get_pgen()\n",
    "Pgen = get_pgen.compute_pgen(\"CARATAVVRGIINHFDYW\") #To compute the Pgen of 1 seq\n",
    "Pgen_parallel=get_pgen.apply_parallel(df_read[\"aaSeqCDR3\"]) # \" of a column of df using 10 CPU\n",
    "df_read[\"Pgen\"]=Pgen_parallel"
   ]
  },
  {
   "cell_type": "markdown",
   "id": "fcd8eb68",
   "metadata": {},
   "source": [
    "OUTPUT: LIST OF MEDIUM CONFIDENCE BINDING SEQUENCES"
   ]
  },
  {
   "cell_type": "code",
   "execution_count": 10,
   "id": "39659460",
   "metadata": {},
   "outputs": [],
   "source": [
    "output_MC=Output_MC(df_read)\n",
    "output_MC.get_pvalue(uniq_nucl)\n",
    "alpha=0.005 #value to set, %of estimated false positive \n",
    "Weak_binders=output_MC.BH_procedure(uniq_nucl,alpha)\n",
    "df_read[\"Hits_MC\"]=df_read.aaSeqCDR3.isin(Weak_binders[\"aaSeqCDR3\"])"
   ]
  },
  {
   "cell_type": "markdown",
   "id": "7f0ef75c",
   "metadata": {},
   "source": [
    "EXPORT THE RESULTS"
   ]
  },
  {
   "cell_type": "code",
   "execution_count": 12,
   "id": "8f771b1e",
   "metadata": {},
   "outputs": [],
   "source": [
    "df_read.to_csv(\"output/df_read_test.tsv\",sep=\"\\t\",index=False)"
   ]
  }
 ],
 "metadata": {
  "kernelspec": {
   "display_name": "Python 3 (ipykernel)",
   "language": "python",
   "name": "python3"
  },
  "language_info": {
   "codemirror_mode": {
    "name": "ipython",
    "version": 3
   },
   "file_extension": ".py",
   "mimetype": "text/x-python",
   "name": "python",
   "nbconvert_exporter": "python",
   "pygments_lexer": "ipython3",
   "version": "3.9.13"
  }
 },
 "nbformat": 4,
 "nbformat_minor": 5
}
